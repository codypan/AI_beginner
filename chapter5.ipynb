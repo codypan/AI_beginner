{
 "cells": [
  {
   "cell_type": "code",
   "execution_count": 1,
   "metadata": {},
   "outputs": [],
   "source": [
    "import pymc3 as pm\n",
    "import numpy as np\n"
   ]
  },
  {
   "cell_type": "code",
   "execution_count": 11,
   "metadata": {},
   "outputs": [
    {
     "name": "stderr",
     "output_type": "stream",
     "text": [
      "Multiprocess sampling (4 chains in 4 jobs)\n",
      "CompoundStep\n",
      ">Metropolis: [price2]\n",
      ">Metropolis: [price1]\n",
      ">Metropolis: [true_price]\n",
      "Sampling 4 chains, 0 divergences: 100%|███████████████████████████████████| 202000/202000 [02:22<00:00, 1412.85draws/s]\n",
      "The number of effective samples is smaller than 25% for some parameters.\n"
     ]
    }
   ],
   "source": [
    "with pm.Model() as model:\n",
    "    true_price = pm.Normal(\"true_price\", mu=35e3, sd=75e2)\n",
    "    price1=pm.Normal(\"price1\",3000,12000)\n",
    "    price2=pm.Normal(\"price2\",500,3000)\n",
    "    ans=price1+price2\n",
    "    step=pm.Metropolis()\n",
    "    trace=pm.sample(50000,step=step)"
   ]
  },
  {
   "cell_type": "code",
   "execution_count": 12,
   "metadata": {},
   "outputs": [],
   "source": [
    "with model:\n",
    "    burned_trace = trace[10000:]\n",
    "price_trace = burned_trace[\"true_price\"]\n",
    "\n",
    "def showdown_loss(guess, true_price, risk):\n",
    "        loss = np.zeros_like(true_price)\n",
    "        ix = true_price < guess\n",
    "        loss[~ix] = np.abs(guess - true_price[~ix])\n",
    "        close_mask = [abs(true_price - guess) <= 250]\n",
    "        loss[close_mask] = -2*true_price[close_mask]\n",
    "        loss[ix] = risk\n",
    "        return loss"
   ]
  },
  {
   "cell_type": "code",
   "execution_count": 13,
   "metadata": {},
   "outputs": [],
   "source": [
    "import scipy.optimize as sop\n",
    "guesses = np.linspace(5000, 50000, 70) \n",
    "risks = np.linspace(30000, 150000, 6)\n",
    "expected_loss = lambda guess, risk: \\\n",
    "    showdown_loss(guess, price_trace, risk).mean()"
   ]
  },
  {
   "cell_type": "code",
   "execution_count": 14,
   "metadata": {},
   "outputs": [
    {
     "name": "stderr",
     "output_type": "stream",
     "text": [
      "<ipython-input-12-9a2a3fff2f4b>:10: FutureWarning: Using a non-tuple sequence for multidimensional indexing is deprecated; use `arr[tuple(seq)]` instead of `arr[seq]`. In the future this will be interpreted as an array index, `arr[np.array(seq)]`, which will result either in an error or a different result.\n",
      "  loss[close_mask] = -2*true_price[close_mask]\n"
     ]
    }
   ],
   "source": [
    "for _p in risks:\n",
    "    results = [expected_loss(_g, _p) for _g in guesses]"
   ]
  },
  {
   "cell_type": "code",
   "execution_count": 15,
   "metadata": {},
   "outputs": [
    {
     "name": "stderr",
     "output_type": "stream",
     "text": [
      "<ipython-input-12-9a2a3fff2f4b>:10: FutureWarning: Using a non-tuple sequence for multidimensional indexing is deprecated; use `arr[tuple(seq)]` instead of `arr[seq]`. In the future this will be interpreted as an array index, `arr[np.array(seq)]`, which will result either in an error or a different result.\n",
      "  loss[close_mask] = -2*true_price[close_mask]\n"
     ]
    },
    {
     "name": "stdout",
     "output_type": "stream",
     "text": [
      "minimum at risk 30000: 27662.49\n",
      "minimum at risk 54000: 23650.27\n",
      "minimum at risk 78000: 22011.05\n",
      "minimum at risk 102000: 21419.45\n",
      "minimum at risk 126000: 20388.10\n",
      "minimum at risk 150000: 19968.06\n"
     ]
    }
   ],
   "source": [
    "for _p in risks:\n",
    "    _min_results = sop.fmin(expected_loss, 15000, args=(_p,),disp = False)\n",
    "    _results = [expected_loss(_g, _p) for _g in guesses]\n",
    "    print(\"minimum at risk %d: %.2f\" % (_p, _min_results))"
   ]
  },
  {
   "cell_type": "code",
   "execution_count": null,
   "metadata": {},
   "outputs": [],
   "source": []
  }
 ],
 "metadata": {
  "kernelspec": {
   "display_name": "Python 3",
   "language": "python",
   "name": "python3"
  },
  "language_info": {
   "codemirror_mode": {
    "name": "ipython",
    "version": 3
   },
   "file_extension": ".py",
   "mimetype": "text/x-python",
   "name": "python",
   "nbconvert_exporter": "python",
   "pygments_lexer": "ipython3",
   "version": "3.8.3"
  }
 },
 "nbformat": 4,
 "nbformat_minor": 4
}
